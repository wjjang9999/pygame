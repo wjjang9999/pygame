{
 "cells": [
  {
   "cell_type": "code",
   "execution_count": null,
   "metadata": {},
   "outputs": [],
   "source": [
    "import pygame as py\n",
    "import time\n",
    "\n",
    "screen_width = 800\n",
    "screen_height = 600\n",
    "\n",
    "done = False\n",
    "\n",
    "black = (0,0,0)\n",
    "white = (255,255,255)\n",
    "red = (255,0,0)\n",
    "green = (0,255,0)\n",
    "blue = (0,0,255)\n",
    "\n",
    "py.init()\n",
    "py.display.set_caption(\"pygame test\")\n",
    "screen = py.display.set_mode((screen_width,screen_height))\n",
    "clock = py.time.Clock()\n",
    "while not done:\n",
    "    for event in py.event.get():\n",
    "        if event.type == py.QUIT:#창이 닫히는 이벤트 발생시\n",
    "            done = True #반복 중단 -> 게임 종료\n",
    "\n",
    "#게임 로직 구간\n",
    "\n",
    "#화면 삭제 구간\n",
    "\n",
    "#스크린 채우기\n",
    "    screen.fill(white)\n",
    "#화면 그리기 구간\n",
    "\n",
    "#화면 업데이트\n",
    "    py.display.flip()\n",
    "#초당 60 프레임으로 업데이트\n",
    "    clock.tick(120)\n",
    "#게임 종료 \n",
    "py.quit()\n"
   ]
  }
 ],
 "metadata": {
  "kernelspec": {
   "display_name": "Python 3",
   "language": "python",
   "name": "python3"
  },
  "language_info": {
   "codemirror_mode": {
    "name": "ipython",
    "version": 3
   },
   "file_extension": ".py",
   "mimetype": "text/x-python",
   "name": "python",
   "nbconvert_exporter": "python",
   "pygments_lexer": "ipython3",
   "version": "3.11.4"
  },
  "orig_nbformat": 4
 },
 "nbformat": 4,
 "nbformat_minor": 2
}
