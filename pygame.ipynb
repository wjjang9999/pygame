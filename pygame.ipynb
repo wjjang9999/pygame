import pygame as py
import time

screen_width = 800
screen_height = 600

done = False

black = (0,0,0)
white = (255,255,255)
red = (255,0,0)
green = (0,255,0)
blue = (0,0,255)

py.init()
py.display.set_caption("pygame test")
screen = py.display.set_mode((screen_width,screen_height))
clock = py.time.Clock()
while not done:
    for event in py.event.get():
        if event.type == py.QUIT:#창이 닫히는 이벤트 발생시
            done = True #반복 중단 -> 게임 종료

#게임 로직 구간

#화면 삭제 구간

#스크린 채우기
    screen.fill(white)
#화면 그리기 구간

#화면 업데이트
    py.display.flip()
#초당 60 프레임으로 업데이트
    clock.tick(120)
#게임 종료 
py.quit()


















import pygame as py
import time

screen_width = 600
screen_height = 700

done = False

black = (0,0,0)
white = (255,255,255)
red = (255,0,0)
green = (0,255,0)
blue = (0,0,255)
yellow = (255,255,0)
cyan = (0,255,255)
orange = (255,153,0)

py.init()
py.display.set_caption("Drawing")
screen = py.display.set_mode((screen_width,screen_height))
clock = py.time.Clock()
while not done:
    for event in py.event.get():
        if event.type == py.QUIT:#창이 닫히는 이벤트 발생시
            done = True #반복 중단 -> 게임 종료

#게임 로직 구간

#화면 삭제 구간

#스크린 채우기
    screen.fill(white)
#화면 그리기 구간
#선그리기
    py.draw.circle(screen,blue,[275,275],72,4)
    py.draw.line(screen,cyan,[201,273],[345,273],4)
    py.draw.line(screen,green,[273,201],[273,345],4)
    py.draw.rect(screen,orange,[200,200,150,150],4)
    py.draw.polygon(screen,red,[[350,200],[500,350],[450,350]],4)
    py.draw.ellipse(screen,yellow,[250,400,200,100],4)

    #화면 업데이트
    py.display.flip()
#초당 60 프레임으로 업데이트
    clock.tick(120)
#게임 종료 
py.quit()

















import pygame as py
import os

screen_width = 800
screen_height = 600

done = False

land = (160,120,40)


py.init()
py.display.set_caption("image")
screen = py.display.set_mode((screen_width,screen_height))
clock = py.time.Clock()

#이미지 불러오기
current_path = os.path.dirname(__file__)
assets_path = os.path.join(current_path, 'assets')
background_image = py.image.load(os.path.join(assets_path,'cat.jpg'))

while not done:
    for event in py.event.get():
        if event.type == py.QUIT:#창이 닫히는 이벤트 발생시
            done = True #반복 중단 -> 게임 종료

#게임 로직 구간
    
#화면 삭제 구간

#스크린 채우기
    screen.fill(land)

    screen.blit(background_image, background_image.get_rect())
#화면 그리기 구간
#공 그리기
    #화면 업데이트
    py.display.flip()
#초당 120 프레임으로 업데이트
    clock.tick(120)
#게임 종료 
py.quit()






